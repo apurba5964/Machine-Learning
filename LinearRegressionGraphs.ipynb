{
 "cells": [
  {
   "cell_type": "code",
   "execution_count": 60,
   "metadata": {},
   "outputs": [],
   "source": [
    "from sklearn.cluster import KMeans\n",
    "import numpy as np\n",
    "import csv\n",
    "import math\n",
    "import matplotlib.pyplot as plt"
   ]
  },
  {
   "cell_type": "code",
   "execution_count": 134,
   "metadata": {},
   "outputs": [],
   "source": [
    "maxAcc = 0.0\n",
    "maxIter = 0\n",
    "C_Lambda = 0.03\n",
    "C_LambdaList = [0.01,0.03,0.5,1,1.5,3]\n",
    "TrainingPercent = 80\n",
    "ValidationPercent = 10\n",
    "TestPercent = 10\n",
    "M = 10\n",
    "PHI = []\n",
    "IsSynthetic = False"
   ]
  },
  {
   "cell_type": "code",
   "execution_count": 83,
   "metadata": {},
   "outputs": [],
   "source": [
    "def GetTargetVector(filePath):\n",
    "    t = []\n",
    "    with open(filePath, 'rU') as f:\n",
    "        reader = csv.reader(f)\n",
    "        for row in reader:  \n",
    "            t.append(int(row[0]))\n",
    "    #print(\"Raw Training Generated..\")\n",
    "    return t\n",
    "\n",
    "#Generating the raw data structure\n",
    "def GenerateRawData(filePath, IsSynthetic):    \n",
    "    dataMatrix = [] \n",
    "    with open(filePath, 'rU') as fi:\n",
    "        reader = csv.reader(fi)\n",
    "        for row in reader:\n",
    "            dataRow = []\n",
    "            for column in row:\n",
    "                dataRow.append(float(column))\n",
    "            dataMatrix.append(dataRow)   \n",
    "    #removing the cloumns 5,6,7,8,9 as they have 0 values in the entire dataset \",\n",
    "    #thus having 0 covariance ,hence these features wont affect the outcome,hence removed .Moreover it will be\",\n",
    "    #0 in the covariance matrix ,hence it won't be invertible\n",
    "    \n",
    "    \n",
    "    if IsSynthetic == False :\n",
    "        dataMatrix = np.delete(dataMatrix, [5,6,7,8,9], axis=1)\n",
    "    dataMatrix = np.transpose(dataMatrix)     \n",
    "    #print (\"Data Matrix Generated..\")\n",
    "    #41 (features) * 69K dataMatrix generated\n",
    "    return dataMatrix\n",
    "\n",
    "#generating training target dataset\n",
    "def GenerateTrainingTarget(rawTraining,TrainingPercent = 80):\n",
    "    TrainingLen = int(math.ceil(len(rawTraining)*(TrainingPercent*0.01)))\n",
    "    t           = rawTraining[:TrainingLen]\n",
    "    #print(str(TrainingPercent) + \"% Training Target Generated..\")\n",
    "    #55K * 1 training target dataset generated\n",
    "    return t\n",
    "\n",
    "def GenerateTrainingDataMatrix(rawData, TrainingPercent = 80):\n",
    "    T_len = int(math.ceil(len(rawData[0])*0.01*TrainingPercent))\n",
    "    d2 = rawData[:,0:T_len]\n",
    "    #print(str(TrainingPercent) + \"% Training Data Generated..\")\n",
    "    \n",
    "    #Generated Training data Matrix with dimension 41 * 55K\n",
    "    return d2\n",
    "\n",
    "def GenerateValData(rawData, ValPercent, TrainingCount): \n",
    "    valSize = int(math.ceil(len(rawData[0])*ValPercent*0.01))\n",
    "    V_End = TrainingCount + valSize\n",
    "    dataMatrix = rawData[:,TrainingCount+1:V_End]\n",
    "    #print (str(ValPercent) + \"% Val Data Generated..\")  \n",
    "    \n",
    "    #Generated the validation and testing dataset with dimension  41 * 6962\n",
    "    return dataMatrix\n",
    "\n",
    "def GenerateValTargetVector(rawData, ValPercent, TrainingCount): \n",
    "    valSize = int(math.ceil(len(rawData)*ValPercent*0.01))\n",
    "    V_End = TrainingCount + valSize\n",
    "    t =rawData[TrainingCount+1:V_End]\n",
    "    #print (str(ValPercent) + \"% Val Target Data Generated..\")\n",
    "    \n",
    "    #Generated validation and target vector with dimension 6962 * 1\n",
    "    return t\n",
    "\n",
    "def GenerateBigSigma(Data, MuMatrix,TrainingPercent,IsSynthetic):\n",
    "    #creating one 41 *41 matrix as we have 41 features.Data is a 41*65k matrix\\\n",
    "    \n",
    "    BigSigma    = np.zeros((len(Data),len(Data)))\n",
    "    #transposing data to 65K *41\n",
    "    DataT       = np.transpose(Data)\n",
    "    #Training length is 80% of 65k which is 55k\n",
    "    TrainingLen = math.ceil(len(DataT)*(TrainingPercent*0.01))        \n",
    "    varVect     = []\n",
    "    \n",
    "    #print(Data.shape)\\n\",\n",
    "    #print(DataT.shape)\\n\",\n",
    "    #print(DataT[0])\\n\",\n",
    "    #print(TrainingLen)\n",
    "    \n",
    "    #loop is from 0 to 41\n",
    "    for i in range(0,len(DataT[0])):\n",
    "        vct = []\n",
    "        #Training length is 55k (80% of dataset)\n",
    "        for j in range(0,int(TrainingLen)):\n",
    "            vct.append(Data[i][j]) \n",
    "        #calculating the variance for each  feature across 55k dataset values and storing it in varvact vector\n",
    "        #varvect has a dimension of 41 * 1\n",
    "        varVect.append(np.var(vct))\n",
    "    \n",
    "    for j in range(len(Data)):\n",
    "        #storing the value of varvect vector in a diagnol matrix BigSigma with dimension 41 * 41\n",
    "        \n",
    "        BigSigma[j][j] = varVect[j]\n",
    "    if IsSynthetic == True:\n",
    "        BigSigma = np.dot(3,BigSigma)\n",
    "    else:\n",
    "        BigSigma = np.dot(200,BigSigma) #No effect on Erms even on changing the value to 2000\n",
    "    ##print (\"BigSigma Generated..\")\n",
    "    return BigSigma\n",
    "\n",
    "def GetScalar(DataRow,MuRow, BigSigInv):  \n",
    "    R = np.subtract(DataRow,MuRow) #(x-mu)\n",
    "    T = np.dot(BigSigInv,np.transpose(R))  #big sigma inverse * (x-mu)transpose\n",
    "    L = np.dot(R,T)#(x-mu) * big sigma inverse * (x-mu)transpose\n",
    "    \n",
    "    #(x-mu) dimension is 1 * 41\",\n",
    "    #Big sigma inverse dimension is 1 * 41\",\n",
    "    #(x-mu) transpose dimension is 41 * 4\",\n",
    "    #This gives a scalar value which is stored in the design matrix or the phi matrix\n",
    "    \n",
    "    return L\n",
    "\n",
    "def GetRadialBasisOut(DataRow,MuRow, BigSigInv):    \n",
    "    #Calculating -0.5(x-mu)* big sigma inverse * (x-mu)transpose\n",
    "    \n",
    "    phi_x = math.exp(-0.5*GetScalar(DataRow,MuRow,BigSigInv))\n",
    "    return phi_x\n",
    "\n",
    "def GetPhiMatrix(Data, MuMatrix, BigSigma, TrainingPercent = 80):\n",
    "    DataT = np.transpose(Data)\n",
    "    TrainingLen = math.ceil(len(DataT)*(TrainingPercent*0.01))   #55K * 10 for training dataset      \n",
    "    PHI = np.zeros((int(TrainingLen),len(MuMatrix))) \n",
    "    BigSigInv = np.linalg.inv(BigSigma) #inverting the bigSigma matrix\n",
    "    for  C in range(0,len(MuMatrix)): # 0 to 10\n",
    "        for R in range(0,int(TrainingLen)): # 0 to 55K\n",
    "            #Getting the output generated by the gaussian function and storing it in the phi matrix or design matrix\n",
    "            PHI[R][C] = GetRadialBasisOut(DataT[R], MuMatrix[C], BigSigInv)\n",
    "    #print (\"PHI Generated..\")\n",
    "    return PHI\n",
    "\n",
    "def GetWeightsClosedForm(PHI, T, Lambda):\n",
    "    #This is also called  Moore-Penrose pseudo-inverse of the matrix Φ \n",
    "    #where W= (λI + Φ_transpose * Φ)_inverse * Φ_transpose * (targer vaector)\n",
    "    #Creating the Lambda regularizer where Lambda is multiplied with an identity matrix\n",
    "    Lambda_I = np.identity(len(PHI[0]))\n",
    "    for i in range(0,len(PHI[0])):\n",
    "        Lambda_I[i][i] = Lambda\n",
    "    PHI_T       = np.transpose(PHI) #phi_transpose \n",
    "    PHI_SQR     = np.dot(PHI_T,PHI) #phi_transpose * phi\n",
    "    PHI_SQR_LI  = np.add(Lambda_I,PHI_SQR) #LambdaI + phi_transpose * phi\n",
    "    PHI_SQR_INV = np.linalg.inv(PHI_SQR_LI)#Inverse of (λI + Φ_transpose * Φ)\n",
    "    INTER       = np.dot(PHI_SQR_INV, PHI_T)#Inverse of (λI + Φ_transpose * Φ) * Φ_transpose \n",
    "    W           = np.dot(INTER, T) #Inverse of (λI + Φ_transpose * Φ) * Φ_transpose * target_vector(T)\n",
    "    ##print (\"Training Weights Generated..\")\n",
    "    return W\n",
    "\n",
    "def GetPhiMatrix(Data, MuMatrix, BigSigma, TrainingPercent = 80):\n",
    "    DataT = np.transpose(Data)\n",
    "    TrainingLen = math.ceil(len(DataT)*(TrainingPercent*0.01))  #55K * 10 for training dataset  \n",
    "    PHI = np.zeros((int(TrainingLen),len(MuMatrix))) \n",
    "    BigSigInv = np.linalg.inv(BigSigma) #inverting the bigSigma matrix\n",
    "    for  C in range(0,len(MuMatrix)): # 0 to 10\n",
    "        for R in range(0,int(TrainingLen)): # 0 to 55K\n",
    "            #Getting the output generated by the gaussian function and storing it in the phi matrix or design matrix\n",
    "            PHI[R][C] = GetRadialBasisOut(DataT[R], MuMatrix[C], BigSigInv)\n",
    "    #print (\"PHI Generated..\")\n",
    "    return PHI\n",
    "\n",
    "def GetValTest(VAL_PHI,W):\n",
    "    #print(VAL_PHI.shape)\n",
    "    #print(W.shape)\n",
    "    Y = np.dot(W,np.transpose(VAL_PHI)) #Φ_transpose * W which gives the predicted target values\n",
    "    ##print (\"Test Out Generated..\")\n",
    "    return Y\n",
    "\n",
    "def GetErms(VAL_TEST_OUT,ValDataAct):\n",
    "    sum = 0.0\n",
    "    t=0\n",
    "    accuracy = 0.0\n",
    "    counter = 0\n",
    "    val = 0.0\n",
    "    for i in range (0,len(VAL_TEST_OUT)):\n",
    "        sum = sum + math.pow((ValDataAct[i] - VAL_TEST_OUT[i]),2)\n",
    "        #sum = sum + (ValDataAct[i] - VAL_TEST_OUT[i])**2\n",
    "        if(int(np.around(VAL_TEST_OUT[i], 0)) == ValDataAct[i]):\n",
    "            counter+=1\n",
    "    accuracy = (float((counter*100))/float(len(VAL_TEST_OUT)))\n",
    "    ##print (\"Accuracy Generated..\")\n",
    "    ##print (\"Validation E_RMS : \" + str(math.sqrt(sum/len(VAL_TEST_OUT))))\n",
    "    \n",
    "    #Calculating the Erms which is sqrt of square of difference of true values and predicted values divide by\n",
    "    # number of datasets\n",
    "    return (str(accuracy) + ',' +  str(math.sqrt(sum/len(VAL_TEST_OUT))))"
   ]
  },
  {
   "cell_type": "markdown",
   "metadata": {},
   "source": [
    "## Fetch and Prepare Dataset"
   ]
  },
  {
   "cell_type": "code",
   "execution_count": 29,
   "metadata": {},
   "outputs": [
    {
     "name": "stderr",
     "output_type": "stream",
     "text": [
      "/anaconda3/envs/ML_Tensor_Keras/lib/python3.6/site-packages/ipykernel_launcher.py:3: DeprecationWarning: 'U' mode is deprecated\n",
      "  This is separate from the ipykernel package so we can avoid doing imports until\n",
      "/anaconda3/envs/ML_Tensor_Keras/lib/python3.6/site-packages/ipykernel_launcher.py:13: DeprecationWarning: 'U' mode is deprecated\n",
      "  del sys.path[0]\n"
     ]
    }
   ],
   "source": [
    "#Generating target array data structure where 0 represent least releveant and 2 most relevant\n",
    "\n",
    "RawTarget = GetTargetVector('Querylevelnorm_t.csv')\n",
    "#Generating raw datastructure\n",
    "RawData   = GenerateRawData('Querylevelnorm_X.csv',IsSynthetic)"
   ]
  },
  {
   "cell_type": "markdown",
   "metadata": {},
   "source": [
    "## Prepare Training Data"
   ]
  },
  {
   "cell_type": "code",
   "execution_count": 30,
   "metadata": {},
   "outputs": [
    {
     "name": "stdout",
     "output_type": "stream",
     "text": [
      "(55699,)\n",
      "(41, 55699)\n"
     ]
    }
   ],
   "source": [
    "TrainingTarget = np.array(GenerateTrainingTarget(RawTarget,TrainingPercent))\n",
    "TrainingData   = GenerateTrainingDataMatrix(RawData,TrainingPercent)\n",
    "print(TrainingTarget.shape)\n",
    "print(TrainingData.shape)"
   ]
  },
  {
   "cell_type": "markdown",
   "metadata": {},
   "source": [
    "## Prepare Validation Data"
   ]
  },
  {
   "cell_type": "code",
   "execution_count": 31,
   "metadata": {},
   "outputs": [
    {
     "name": "stdout",
     "output_type": "stream",
     "text": [
      "(6962,)\n",
      "(41, 6962)\n"
     ]
    }
   ],
   "source": [
    "ValDataAct = np.array(GenerateValTargetVector(RawTarget,ValidationPercent, (len(TrainingTarget))))\n",
    "ValData    = GenerateValData(RawData,ValidationPercent, (len(TrainingTarget)))\n",
    "print(ValDataAct.shape)\n",
    "print(ValData.shape)"
   ]
  },
  {
   "cell_type": "markdown",
   "metadata": {},
   "source": [
    "## Prepare Test Data"
   ]
  },
  {
   "cell_type": "code",
   "execution_count": 32,
   "metadata": {},
   "outputs": [
    {
     "name": "stdout",
     "output_type": "stream",
     "text": [
      "(6962,)\n",
      "(41, 6962)\n"
     ]
    }
   ],
   "source": [
    "TestDataAct = np.array(GenerateValTargetVector(RawTarget,TestPercent, (len(TrainingTarget)+len(ValDataAct))))\n",
    "TestData = GenerateValData(RawData,TestPercent, (len(TrainingTarget)+len(ValDataAct)))\n",
    "print(ValDataAct.shape)\n",
    "print(ValData.shape)"
   ]
  },
  {
   "cell_type": "markdown",
   "metadata": {},
   "source": [
    "## Closed Form Solution [Finding Weights using Moore- Penrose pseudo- Inverse Matrix]"
   ]
  },
  {
   "cell_type": "code",
   "execution_count": 33,
   "metadata": {},
   "outputs": [],
   "source": [
    "#This code tests the change in  Erms for closed form solution with change in number of basis functions\n",
    "M_List = [1,5,10,15,20,25,30,35]\n",
    "TRAINING_PHI_LIST=[]\n",
    "TEST_PHI_LIST=[]\n",
    "VAL_PHI_LIST=[]\n",
    "W_LIST=[]\n",
    "for M in M_List:\n",
    "    \n",
    "    ErmsArr = []\n",
    "    AccuracyArr = []\n",
    "\n",
    "#Clustering the dataset into 10 clusters \",\n",
    "#n_clusters is the number of clusters which becomes the number of basis functions\",\n",
    "#ransdom state 0 means the random number for the centroid initialization\",\n",
    "#Mu vector contains the centroid values for all the 10 clusters for all the 41 features\",\n",
    "#kmeans.cluster_centers_ returns the mu marix 10*41 having the mean(centroid) per cluster for all 41 features\",\n",
    "#print(Mu)\",\n",
    "#print(Mu.shape)\"\n",
    "\n",
    "\n",
    "    kmeans = KMeans(n_clusters=M, random_state=0).fit(np.transpose(TrainingData))\n",
    "    Mu = kmeans.cluster_centers_\n",
    "#Generating the Big sigma matrix which is common for the entire dataset and is used in val_phi and test_phi\n",
    "    BigSigma     = GenerateBigSigma(RawData, Mu, TrainingPercent,IsSynthetic)\n",
    "#Generation the design or phi matrix for training data\n",
    "    TRAINING_PHI = GetPhiMatrix(RawData, Mu, BigSigma, TrainingPercent)\n",
    "    TRAINING_PHI_LIST.append(TRAINING_PHI)\n",
    "\n",
    "#Calculationg the weights,here C_Lambda is used as a regularizer to prevent overfitting of the model\n",
    "    W            = GetWeightsClosedForm(TRAINING_PHI,TrainingTarget,(C_Lambda))\n",
    "    W_LIST.append(W)\n",
    "\n",
    "#Generation the design or phi matrix for testing data\n",
    "    TEST_PHI     = GetPhiMatrix(TestData, Mu, BigSigma, 100)\n",
    "    TEST_PHI_LIST.append(TEST_PHI)\n",
    "\n",
    "#Generation the design or phi matrix for validation data\n",
    "    VAL_PHI      = GetPhiMatrix(ValData, Mu, BigSigma, 100)\n",
    "    VAL_PHI_LIST.append(VAL_PHI)"
   ]
  },
  {
   "cell_type": "code",
   "execution_count": 135,
   "metadata": {},
   "outputs": [],
   "source": [
    "#This code tests the change in  Erms for closed form solution with change in Lambda or the regularizer\n",
    "\n",
    "ErmsArr = []\n",
    "AccuracyArr = []\n",
    "W_LIST_LAMBDA=[]\n",
    "#Clustering the dataset into 10 clusters \",\n",
    "#n_clusters is the number of clusters which becomes the number of basis functions\",\n",
    "#ransdom state 0 means the random number for the centroid initialization\",\n",
    "#Mu vector contains the centroid values for all the 10 clusters for all the 41 features\",\n",
    "#kmeans.cluster_centers_ returns the mu marix 10*41 having the mean(centroid) per cluster for all 41 features\",\n",
    "#print(Mu)\",\n",
    "#print(Mu.shape)\"\n",
    "\n",
    "\n",
    "kmeans = KMeans(n_clusters=M, random_state=0).fit(np.transpose(TrainingData))\n",
    "Mu = kmeans.cluster_centers_\n",
    "#Generating the Big sigma matrix which is common for the entire dataset and is used in val_phi and test_phi\n",
    "BigSigma     = GenerateBigSigma(RawData, Mu, TrainingPercent,IsSynthetic)\n",
    "#Generation the design or phi matrix for training data\n",
    "TRAINING_PHI = GetPhiMatrix(RawData, Mu, BigSigma, TrainingPercent)\n",
    "\n",
    "#Calculationg the weights,here C_Lambda is used as a regularizer to prevent overfitting of the model\n",
    "for C in C_LambdaList:\n",
    "    \n",
    "    W = GetWeightsClosedForm(TRAINING_PHI,TrainingTarget,(C)) \n",
    "    W_LIST_LAMBDA.append(W)\n",
    "\n",
    "#Generation the design or phi matrix for testing data\n",
    "TEST_PHI     = GetPhiMatrix(TestData, Mu, BigSigma, 100) \n",
    "\n",
    "#Generation the design or phi matrix for validation data\n",
    "VAL_PHI      = GetPhiMatrix(ValData, Mu, BigSigma, 100)"
   ]
  },
  {
   "cell_type": "code",
   "execution_count": 34,
   "metadata": {},
   "outputs": [],
   "source": [
    "#print(Mu.shape)\n",
    "#print(BigSigma.shape)\n",
    "#print(TRAINING_PHI.shape)\n",
    "#print(W.shape)\n",
    "#print(VAL_PHI.shape)\n",
    "#print(TEST_PHI.shape)"
   ]
  },
  {
   "cell_type": "markdown",
   "metadata": {},
   "source": [
    "## Finding Erms on training, validation and test set "
   ]
  },
  {
   "cell_type": "code",
   "execution_count": 139,
   "metadata": {},
   "outputs": [
    {
     "name": "stdout",
     "output_type": "stream",
     "text": [
      "[0.6278937255835154, 0.6279788453856765, 0.6282321603005984, 0.6282247341563227, 0.6282104241531032, 0.6281973044337429]\n",
      "[0.01, 0.03, 0.5, 1, 1.5, 3]\n"
     ]
    },
    {
     "data": {
      "image/png": "[encoded data removed]",
      "text/plain": [
       "<Figure size 432x288 with 1 Axes>"
      ]
     },
     "metadata": {},
     "output_type": "display_data"
    }
   ],
   "source": [
    "ErmsLambdaList=[]\n",
    "for W in W_LIST_LAMBDA:\n",
    "    \n",
    "    TR_TEST_OUT  = GetValTest(TRAINING_PHI,W)\n",
    "    VAL_TEST_OUT = GetValTest(VAL_PHI,W)\n",
    "    TEST_OUT     = GetValTest(TEST_PHI,W)\n",
    "    ErmsLambdaList.append(float(GetErms(TEST_OUT,TestDataAct).split(',')[1]))\n",
    "\n",
    "    TrainingAccuracy   = str(GetErms(TR_TEST_OUT,TrainingTarget))\n",
    "    ValidationAccuracy = str(GetErms(VAL_TEST_OUT,ValDataAct))\n",
    "    #TestAccuracy       = str(GetErms(TEST_OUT,TestDataAct))\n",
    "#print(ErmsLambdaList)\n",
    "#print(C_LambdaList)\n",
    "generateErmsGraph(ErmsLambdaList,C_LambdaList,0,3.5,0.62,0.63)    "
   ]
  },
  {
   "cell_type": "code",
   "execution_count": 70,
   "metadata": {},
   "outputs": [
    {
     "name": "stdout",
     "output_type": "stream",
     "text": [
      "UBITname = APURBAMA\n",
      "Person Number = 50288705\n",
      "----------------------------------------------------\n",
      "------------------LeToR Data------------------------\n",
      "----------------------------------------------------\n",
      "-------Closed Form with Radial Basis Function-------\n",
      "----------------------------------------------------\n",
      "[0.6402356289634681, 0.6311320276632603, 0.6279788453856765, 0.6273341085294319, 0.6261902077808426, 0.6241635963123179, 0.6229631910813109, 0.6210969595210213]\n"
     ]
    },
    {
     "data": {
      "image/png": "[encoded data removed]",
      "text/plain": [
       "<Figure size 432x288 with 1 Axes>"
      ]
     },
     "metadata": {},
     "output_type": "display_data"
    }
   ],
   "source": [
    "TrainingErms_List=[]\n",
    "ValidationErms_List=[]\n",
    "TestErms_List=[]\n",
    "for i in range(0,len(M_List)):\n",
    "    \n",
    "    TR_TEST_OUT  = GetValTest(TRAINING_PHI_LIST[i],W_LIST[i])\n",
    "    VAL_TEST_OUT = GetValTest(VAL_PHI_LIST[i],W_LIST[i])\n",
    "    TEST_OUT     = GetValTest(TEST_PHI_LIST[i],W_LIST[i])\n",
    "    x=GetErms(TR_TEST_OUT,TrainingTarget)\n",
    "    TrainingErms_List.append(x.split(',')[1])\n",
    "    y=GetErms(VAL_TEST_OUT,ValDataAct)\n",
    "    ValidationErms_List.append(y.split(',')[1])\n",
    "    z=GetErms(TEST_OUT,TestDataAct)\n",
    "    #print(float(z.split(',')[1]))\n",
    "    TestErms_List.append(float(z.split(',')[1]))\n",
    "    #print(TestErms_List)\n",
    "\n",
    "    #TrainingAccuracy   = str(x)\n",
    "    #ValidationAccuracy = str(y)\n",
    "    #TestAccuracy       = str(z)\n",
    "\n",
    "    \n",
    "print ('UBITname = APURBAMA') \n",
    "print ('Person Number = 50288705') \n",
    "print ('----------------------------------------------------') \n",
    "print (\"------------------LeToR Data------------------------\") \n",
    "print ('----------------------------------------------------') \n",
    "print (\"-------Closed Form with Radial Basis Function-------\") \n",
    "print ('----------------------------------------------------')\n",
    "\n",
    "#for j in range(0,len(M_List)):\n",
    "\n",
    "#print (\"M = \"+str(M_List[j])+\"\\nLambda = 0.03\")\n",
    "#print(ValidationErms_List[j])\n",
    "#print (\"E_rms Training   = \" + str(TrainingErms_List[j]))\n",
    "#print (\"E_rms Validation = \" + str(ValidationErms_List[j]))\n",
    "#print (\"E_rms Testing    = \" + str(TestErms_List[j]))\n",
    "generateErmsGraph(TestErms_List,M_List,0,40,0.5,0.8)    "
   ]
  },
  {
   "cell_type": "markdown",
   "metadata": {},
   "source": [
    "print ('UBITname      = APURBAMA')\n",
    "print ('Person Number = 50288705')\n",
    "print ('----------------------------------------------------')\n",
    "print (\"------------------LeToR Data------------------------\")\n",
    "print ('----------------------------------------------------')\n",
    "print (\"-------Closed Form with Radial Basis Function-------\")\n",
    "print ('----------------------------------------------------')\n",
    "\n",
    "#for j in range(0,len(M_List)):\n",
    "    \n",
    "    #print (\"M = \"+str(M_List[j])+\"\\nLambda = 0.03\")\n",
    "    #print(ValidationErms_List[j])\n",
    "    #print (\"E_rms Training   = \" + str(TrainingErms_List[j]))\n",
    "    #print (\"E_rms Validation = \" + str(ValidationErms_List[j]))\n",
    "    #print (\"E_rms Testing    = \" + str(TestErms_List[j]))\n",
    "\n",
    "generateErmsGraph(TestErms_List,M_List)    "
   ]
  },
  {
   "cell_type": "markdown",
   "metadata": {},
   "source": [
    "## Gradient Descent solution for Linear Regression"
   ]
  },
  {
   "cell_type": "code",
   "execution_count": null,
   "metadata": {},
   "outputs": [],
   "source": []
  },
  {
   "cell_type": "code",
   "execution_count": 41,
   "metadata": {},
   "outputs": [
    {
     "name": "stdout",
     "output_type": "stream",
     "text": [
      "----------------------------------------------------\n",
      "--------------Please Wait for 2 mins!----------------\n",
      "----------------------------------------------------\n"
     ]
    }
   ],
   "source": [
    "print ('----------------------------------------------------')\n",
    "print ('--------------Please Wait for 10 mins!----------------')\n",
    "print ('----------------------------------------------------')"
   ]
  },
  {
   "cell_type": "code",
   "execution_count": 101,
   "metadata": {},
   "outputs": [],
   "source": [
    "#W_Now        = np.dot(220, W) # randomizing the weights to multiplying with a random scalr value\n",
    "La           = 2 #Regularizer to remove overfitting of the model. It is multiplied to the weights\n",
    "learningRate = 0.01 #Learning rate in the gradient descent solution which is multiplied with delat_E,which \n",
    "#decides how big an update is made to the weights\n",
    "L_Erms_Val   = []\n",
    "L_Erms_TR    = []\n",
    "L_Erms_Test  = []\n",
    "W_Mat        = []\n",
    "Erms_TR_List = []\n",
    "Erms_Val_List = []\n",
    "Erms_Test_List = []\n",
    "\n",
    "#Running for 400 iterations only as the Erms for the model does not improve after that value\n",
    "\n",
    "learningRateList = [0.01,0.05,0.1,0.15,0.2,0.3,0.001] #Testing the effect of increase in learning rate in Erms of Gradient Descent\n",
    "#Taking M(number of basis function as 10)\n",
    "for z in range(0,1):\n",
    "    TRAINING_PHI=TRAINING_PHI_LIST[2]\n",
    "    W_Now        = np.dot(220, W_LIST[2])\n",
    "    VAL_PHI=VAL_PHI_LIST[2]\n",
    "    TEST_PHI=TEST_PHI_LIST[2]\n",
    "    \n",
    "    for i in range(0,400):\n",
    "        \n",
    "    \n",
    "    #print ('---------Iteration: ' + str(i) + '--------------')\n",
    "    #  According to Gradient descent solution Delta_E_D is given by -(True values - weights_transpose * phi)*phi\n",
    "    # ∇ED = −(tn − w_transpose * φ(xn)) * φ(xn)\n",
    "        Delta_E_D     = -np.dot((TrainingTarget[i] - np.dot(np.transpose(W_Now),TRAINING_PHI[i])),TRAINING_PHI[i])\n",
    "    \n",
    "    #La is a regularizer which is multiplied with the weights\n",
    "        La_Delta_E_W  = np.dot(La,W_Now)\n",
    "    \n",
    "    # ∇E= ∇ED + λ∇EW\n",
    "        Delta_E       = np.add(Delta_E_D,La_Delta_E_W)  \n",
    "    # ∇W= -learning_rate * Delta_E(∇E)\n",
    "        #Delta_W       = -np.dot(learningRate,Delta_E)\n",
    "        Delta_W       = -np.dot(learningRateList[1],Delta_E)\n",
    "    \n",
    "    #Weights_updated = Weights + (-learning_rate * Delta_E)\n",
    "        W_T_Next      = W_Now + Delta_W\n",
    "    #W_T_Next is now the updated weights\n",
    "        W_Now         = W_T_Next\n",
    "    \n",
    "    #-----------------TrainingData Accuracy---------------------#\n",
    "        TR_TEST_OUT   = GetValTest(TRAINING_PHI,W_T_Next) #Generating test data predicted output\n",
    "        Erms_TR       = GetErms(TR_TEST_OUT,TrainingTarget) #calculating the Erms for the current iteration\n",
    "        L_Erms_TR.append(float(Erms_TR.split(',')[1]))# storing all the Erms values and later printing out the min Erms\n",
    "    \n",
    "    #-----------------ValidationData Accuracy---------------------#\n",
    "        VAL_TEST_OUT  = GetValTest(VAL_PHI,W_T_Next) #Generating validation data predicted output\n",
    "        Erms_Val      = GetErms(VAL_TEST_OUT,ValDataAct)#calculating the validation Erms for the current iteration\n",
    "        L_Erms_Val.append(float(Erms_Val.split(',')[1]))# storing all the Erms values and later printing out the min Erms\n",
    "    \n",
    "    #-----------------TestingData Accuracy---------------------#\n",
    "        TEST_OUT      = GetValTest(TEST_PHI,W_T_Next) #Generating test data predicted output\n",
    "        Erms_Test = GetErms(TEST_OUT,TestDataAct) #calculating the test Erms for the current iteration\n",
    "        L_Erms_Test.append(float(Erms_Test.split(',')[1]))# storing all the Erms values and later printing out the min Erms\n",
    "        \n",
    "    Erms_TR_List.append(np.around(min(L_Erms_TR),5))\n",
    "    Erms_Val_List.append(np.around(min(L_Erms_Val),5))\n",
    "    Erms_Test_List.append(np.around(min(L_Erms_Test),5))"
   ]
  },
  {
   "cell_type": "code",
   "execution_count": 141,
   "metadata": {},
   "outputs": [
    {
     "name": "stdout",
     "output_type": "stream",
     "text": [
      "[0.6242334171143571]\n",
      "[0.6242334171143571, 0.6242334171143571]\n",
      "[0.6242334171143571, 0.6242334171143571, 0.6242334171143571]\n",
      "[0.6242334171143571, 0.6242334171143571, 0.6242334171143571, 0.6242334171143571]\n",
      "[0.6242334171143571, 0.6242334171143571, 0.6242334171143571, 0.6242334171143571, 0.6242334171143571]\n"
     ]
    }
   ],
   "source": [
    "#This part of the code is to test the change in regularizer in Erms for the gradient descent solution\n",
    "W_Now        = np.dot(220, W) # randomizing the weights to multiplying with a random scalr value\n",
    "La           = 2 #Regularizer to remove overfitting of the model. It is multiplied to the weights\n",
    "learningRate = 0.01 #Learning rate in the gradient descent solution which is multiplied with delat_E,which \n",
    "#decides how big an update is made to the weights\n",
    "L_Erms_Val   = []\n",
    "L_Erms_TR    = []\n",
    "L_Erms_Test  = []\n",
    "W_Mat        = []\n",
    "LaList=[2,4,6,8,12]\n",
    "ErmsListLA=[]\n",
    "#Running for 400 iterations only as the Erms for the model does not improve after that value\n",
    "for L in LaList:\n",
    "    for i in range(0,400):\n",
    "        \n",
    "    \n",
    "    #print ('---------Iteration: ' + str(i) + '--------------')\n",
    "    #  According to Gradient descent solution Delta_E_D is given by -(True values - weights_transpose * phi)*phi\n",
    "    # ∇ED = −(tn − w_transpose * φ(xn)) * φ(xn)\n",
    "        Delta_E_D     = -np.dot((TrainingTarget[i] - np.dot(np.transpose(W_Now),TRAINING_PHI[i])),TRAINING_PHI[i])\n",
    "    \n",
    "    #La is a regularizer which is multiplied with the weights\n",
    "        La_Delta_E_W  = np.dot(L,W_Now)\n",
    "    \n",
    "    # ∇E= ∇ED + λ∇EW\n",
    "        Delta_E       = np.add(Delta_E_D,La_Delta_E_W)  \n",
    "    # ∇W= -learning_rate * Delta_E(∇E)\n",
    "        Delta_W       = -np.dot(learningRate,Delta_E)\n",
    "    \n",
    "    #Weights_updated = Weights + (-learning_rate * Delta_E)\n",
    "        W_T_Next      = W_Now + Delta_W\n",
    "    #W_T_Next is now the updated weights\n",
    "        W_Now         = W_T_Next\n",
    "    \n",
    "    #-----------------TrainingData Accuracy---------------------#\n",
    "        TR_TEST_OUT   = GetValTest(TRAINING_PHI,W_T_Next) #Generating test data predicted output\n",
    "        Erms_TR       = GetErms(TR_TEST_OUT,TrainingTarget) #calculating the Erms for the current iteration\n",
    "        L_Erms_TR.append(float(Erms_TR.split(',')[1]))# storing all the Erms values and later printing out the min Erms\n",
    "    \n",
    "    #-----------------ValidationData Accuracy---------------------#\n",
    "        VAL_TEST_OUT  = GetValTest(VAL_PHI,W_T_Next) #Generating validation data predicted output\n",
    "        Erms_Val      = GetErms(VAL_TEST_OUT,ValDataAct)#calculating the validation Erms for the current iteration\n",
    "        L_Erms_Val.append(float(Erms_Val.split(',')[1]))# storing all the Erms values and later printing out the min Erms\n",
    "    \n",
    "    #-----------------TestingData Accuracy---------------------#\n",
    "        TEST_OUT      = GetValTest(TEST_PHI,W_T_Next) #Generating test data predicted output\n",
    "        Erms_Test = GetErms(TEST_OUT,TestDataAct) #calculating the test Erms for the current iteration\n",
    "        L_Erms_Test.append(float(Erms_Test.split(',')[1]))# storing all the Erms values and later printing out the min Erms\n",
    "    \n",
    "    ErmsListLA.append(min(L_Erms_Test))\n",
    "    print(ErmsListLA)\n",
    "    "
   ]
  },
  {
   "cell_type": "code",
   "execution_count": 146,
   "metadata": {},
   "outputs": [
    {
     "name": "stdout",
     "output_type": "stream",
     "text": [
      "[0.6242334171143571, 0.6242334171143571, 0.6242334171143571, 0.6242334171143571, 0.6242334171143571]\n",
      "[2, 4, 6, 8, 12]\n"
     ]
    },
    {
     "data": {
      "image/png": "[encoded data removed]",
      "text/plain": [
       "<Figure size 432x288 with 1 Axes>"
      ]
     },
     "metadata": {},
     "output_type": "display_data"
    }
   ],
   "source": [
    "generateErmsGraph(ErmsListLA,LaList,0,16,0.62,0.63)"
   ]
  },
  {
   "cell_type": "code",
   "execution_count": 106,
   "metadata": {},
   "outputs": [
    {
     "name": "stdout",
     "output_type": "stream",
     "text": [
      "----------Gradient Descent Solution--------------------\n",
      "E_rms Testing    = 0.62384\n"
     ]
    },
    {
     "data": {
      "image/png": "[encoded data removed]",
      "text/plain": [
       "<Figure size 432x288 with 1 Axes>"
      ]
     },
     "metadata": {},
     "output_type": "display_data"
    }
   ],
   "source": [
    "print ('----------Gradient Descent Solution--------------------')\n",
    "#for i in range(0,len(M_List)):\n",
    "    \n",
    "    #print (\"M = \"+str(M_List[i])+\" \\nLambda  = 2\\neta=0.01\")\n",
    "# Model ouput is least Erms for all training ,validation and test\n",
    "    #print (\"E_rms Training   = \" + str(Erms_TR_List[i])) # Model ouput is least Erms\n",
    "    #print (\"E_rms Validation = \" + str(Erms_Val_List[i]))\n",
    "print (\"E_rms Testing    = \" + str(Erms_Test_List[0]))\n",
    "\n",
    "generateErmsGraph([3.0067,0.62372,0.62384,0.6489,0.6353,4.06435],[0.001,0.01,0.05,0.1,0.15,0.3],0,0.4,0.5,4.5)    "
   ]
  },
  {
   "cell_type": "code",
   "execution_count": 145,
   "metadata": {},
   "outputs": [],
   "source": [
    "def generateErmsGraph(ErmsList,M_List,xlow,xup,ylow,yup):\n",
    "    plt.axis([xlow, xup, ylow, yup])\n",
    "    plt.ylabel('Erms Gradient Descent Solution')\n",
    "    plt.xlabel('Lambda or Regularizer')\n",
    "    plt.grid(True)\n",
    "    print(ErmsList)\n",
    "    print(M_List)\n",
    "    plt.plot(M_List,ErmsList, '-o', markersize = 10, markerfacecolor = 'r')\n",
    "    plt.show()"
   ]
  }
 ],
 "metadata": {
  "kernelspec": {
   "display_name": "Python 3",
   "language": "python",
   "name": "python3"
  },
  "language_info": {
   "codemirror_mode": {
    "name": "ipython",
    "version": 3
   },
   "file_extension": ".py",
   "mimetype": "text/x-python",
   "name": "python",
   "nbconvert_exporter": "python",
   "pygments_lexer": "ipython3",
   "version": "3.6.6"
  }
 },
 "nbformat": 4,
 "nbformat_minor": 2
}
